{
 "cells": [
  {
   "cell_type": "markdown",
   "id": "d9d036c6",
   "metadata": {},
   "source": [
    "# Hypothesis testing problems"
   ]
  },
  {
   "cell_type": "markdown",
   "id": "d157c4db",
   "metadata": {},
   "source": [
    "## Exercise 1\n",
    "\n",
    "You are a nutritionist researching two different types of diets to see if there is a significant difference in weight loss after one month. You choose two random groups of people, one group follows the first diet and the other follows the second. At the end of the month, you record the weight loss (in kg) for each person:\n",
    "\n",
    "| Diet 1 | Diet 2 |\n",
    "|:-------|:-------|\n",
    "| 2.0 | 3.0 |\n",
    "| 2.5 | 3.2 |\n",
    "| 3.0 | 3.1 |\n",
    "| 2.8 | 2.9 |\n",
    "| 2.3 | 2.8 |\n",
    "| 2.7 | 3.0 |\n",
    "| 2.5 | 3.2 |\n",
    "\n",
    "With these data, it seeks to answer the following question: is there a significant difference in average weight loss between people who followed the first diet and those who followed the second diet?\n",
    "\n",
    "To draw conclusions, follow the points below:\n",
    "\n",
    "- State the hypothesis: null and alternative hypothesis.\n",
    "- Perform the test to test the hypothesis. You can use a Student's t-test.\n",
    "- Analyze the conclusions."
   ]
  },
  {
   "cell_type": "markdown",
   "id": "f84afe65-7572-447e-9219-321ed1eacadb",
   "metadata": {},
   "source": [
    "#### Formulación de Hipótesis\n",
    "* **H0:** La perdida de peso media entre ambos grupos es igual\n",
    "* **H1:** La perdida de peso media entre ambos grupos es diferente\n",
    "* **Nivel de Significancia de Alpha:** 0.05"
   ]
  },
  {
   "cell_type": "code",
   "execution_count": 27,
   "id": "80cf87e8-090c-4b94-9ffa-61823bc9904b",
   "metadata": {},
   "outputs": [],
   "source": [
    "import pandas as pd\n",
    "import numpy as np\n",
    "from scipy import stats"
   ]
  },
  {
   "cell_type": "code",
   "execution_count": 25,
   "id": "8e0f3cf0",
   "metadata": {},
   "outputs": [
    {
     "name": "stdout",
     "output_type": "stream",
     "text": [
      "Prueba T: -3.5383407969933938 \n",
      "Valor P: 0.004083270191713912\n",
      "Se rechaza H0, se acepta H1\n"
     ]
    }
   ],
   "source": [
    "# TODO\n",
    "dietas = {\n",
    "    'Dieta 1': [2.0, 2.5, 3.0, 2.8, 2.3, 2.7, 2.5],\n",
    "    'Dieta 2': [3.0, 3.2, 3.1, 2.9, 2.8, 3.0, 3.2]\n",
    "}\n",
    "df = pd.DataFrame(data=dietas)\n",
    "\n",
    "t_score, value_p = stats.ttest_ind(df['Dieta 1'], df['Dieta 2'])\n",
    "\n",
    "print('Prueba T:', t_score,'\\nValor P:', value_p)\n",
    "\n",
    "if t_score < value_p:\n",
    "    print('Se rechaza H0, se acepta H1')\n",
    "else:\n",
    "    print('Se acepta H0')"
   ]
  },
  {
   "cell_type": "markdown",
   "id": "f432e18e",
   "metadata": {},
   "source": [
    "## ANOVA\n",
    "\n",
    "**ANOVA** (*Analysis of Variance*) is a statistical technique used to compare the measures of two or more groups. The idea behind ANOVA is to decompose the total variability in the data into two components: between-group variability and within-group variability:\n",
    "\n",
    "- **Between-group variability**: This variability refers to the differences between the group means. If this variability is considerably larger than the within-group variability, it could be an indication that at least one of the group means is different.\n",
    "- **Within-group variability**: This variability refers to the dispersion of the data within each group. If all groups have similar variability, then any noticeable difference in group means could be considered significant.\n",
    "\n",
    "Hypotheses in ANOVA typically are:\n",
    "\n",
    "- **Null hypothesis** ($H₀$): The means of all groups are equal.\n",
    "- **Alternative hypothesis** ($H₁$): At least one of the group means is different.\n",
    "\n",
    "If the ANOVA test result is significant (e.g., a p-value less than a threshold such as 0.05), this suggests that at least one group mean is different."
   ]
  },
  {
   "cell_type": "markdown",
   "id": "fc5f3721",
   "metadata": {},
   "source": [
    "### Exercise 2\n",
    "\n",
    "A farmer decides to test three different types of fertilizers to determine if one is superior in terms of corn production. The farmer plants corn on 15 identical plots and uses all three fertilizers (5 plots for each type). At the end of the season, he measures the corn yield (in kg) of each plot, with the following result:\n",
    "\n",
    "| Fertilizer 1 | Fertilizer 2 | Fertilizer 3 |\n",
    "|:-------------|:-------------|:-------------|\n",
    "| 20 | 22 | 24 |\n",
    "| 21 | 21 | 23 |\n",
    "| 20 | 23 | 22 |\n",
    "| 19 | 22 | 23 |\n",
    "| 20 | 21 | 24 |\n",
    "\n",
    "With this data, he seeks to answer the following question: is there a significant difference in average corn yield between the three types of fertilizers?\n",
    "\n",
    "To help you, follow the points below:\n",
    "\n",
    "- State the hypothesis: null and alternative hypothesis.\n",
    "- Perform the ANOVA test.\n",
    "- Analyze the conclusions.\n",
    "- If one fertilizer is better than another, how can we know it?"
   ]
  },
  {
   "cell_type": "markdown",
   "id": "de0d4c7a-e92a-4d45-b5e2-3084c552cf22",
   "metadata": {},
   "source": [
    "#### Formulación de Hipótesis\n",
    "* **H0:** No hay diferencias significativas entre los 3 tipos de fertilizantes\n",
    "* **H1:** Hay diferencias significativas entre los 3 tipos de fertilizantes\n",
    "* **Nivel de Significancia de Alpha:** 0.05"
   ]
  },
  {
   "cell_type": "code",
   "execution_count": 35,
   "id": "eecad0ca",
   "metadata": {},
   "outputs": [
    {
     "name": "stdout",
     "output_type": "stream",
     "text": [
      "F Value: 20.315789473684188\n",
      "P Value: 0.00014047824793190475 \n",
      "\n",
      "H0 se rechaza y se acepta H1\n"
     ]
    }
   ],
   "source": [
    "# TODO\n",
    "fertilizers = {\n",
    "    'f1': [20,21,20,19,20],\n",
    "    'f2': [22,21,23,22,21],\n",
    "    'f3': [24,23,22,23,24],\n",
    "}\n",
    "\n",
    "df = pd.DataFrame(data=fertilizers)\n",
    "\n",
    "alpha = 0.05\n",
    "fvalue, pvalue = stats.f_oneway(df['f1'], df['f2'], df['f3'])\n",
    "print('F Value:', fvalue)\n",
    "print('P Value:', pvalue, '\\n')\n",
    "\n",
    "if pvalue < alpha:\n",
    "    print('H0 se rechaza y se acepta H1')\n",
    "else:\n",
    "    print('Se acepta H0')"
   ]
  }
 ],
 "metadata": {
  "interpreter": {
   "hash": "9248718ffe6ce6938b217e69dbcc175ea21f4c6b28a317e96c05334edae734bb"
  },
  "kernelspec": {
   "display_name": "Python 3 (ipykernel)",
   "language": "python",
   "name": "python3"
  },
  "language_info": {
   "codemirror_mode": {
    "name": "ipython",
    "version": 3
   },
   "file_extension": ".py",
   "mimetype": "text/x-python",
   "name": "python",
   "nbconvert_exporter": "python",
   "pygments_lexer": "ipython3",
   "version": "3.10.13"
  }
 },
 "nbformat": 4,
 "nbformat_minor": 5
}
